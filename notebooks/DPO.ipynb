{
 "cells": [
  {
   "cell_type": "code",
   "execution_count": 2,
   "id": "3b3e5ea8-f609-429f-b1b6-0403e2de565a",
   "metadata": {},
   "outputs": [],
   "source": [
    "from datasets import load_dataset\n",
    "from trl import DPOTrainer, DPOConfig\n",
    "import torch\n",
    "\n",
    "\n",
    "\n",
    "\n",
    "uf = load_dataset(\"HuggingFaceH4/ultrafeedback_binarized\", split=\"train_prefs\")"
   ]
  },
  {
   "cell_type": "code",
   "execution_count": 4,
   "id": "fe341d3d-f45c-465c-93a1-d42e27ffff24",
   "metadata": {},
   "outputs": [
    {
     "data": {
      "text/plain": [
       "{'prompt': \"Given a sentence in French, provide an equivalent paraphrased version from the original that retains the same meaning.\\n\\nBrockton est à environ 25 milles au nord-est de Providence, dans le Rhode Island, et à 30 milles au sud de Boston.\\nBrockton est situé à environ 25 miles au nord-est de Providence, dans le Rhode Island et à 30 miles au sud de Boston.\\n\\nL'école est reliée au département secondaire de l'école d'autisme Ysgol Plas Brondyffryn, construite en 2003.\\nL'école est en liaison avec le département secondaire de l'école d'autisme Ysgol Plas Brondyffryn, construite en 2003.\\n\\nCrocker a déménagé de Natchez (Mississippi) à Vidalia, siège de la paroisse de Concordia, et a traversé le cours inférieur de la rivière Ouachita, dans la section appelée Black River.\\n\",\n",
       " 'prompt_id': '0efb42706b3fcc906f579505c7cc0c4e68a640ab3862b16c08f32282fa1169f9',\n",
       " 'chosen': [{'content': \"Given a sentence in French, provide an equivalent paraphrased version from the original that retains the same meaning.\\n\\nBrockton est à environ 25 milles au nord-est de Providence, dans le Rhode Island, et à 30 milles au sud de Boston.\\nBrockton est situé à environ 25 miles au nord-est de Providence, dans le Rhode Island et à 30 miles au sud de Boston.\\n\\nL'école est reliée au département secondaire de l'école d'autisme Ysgol Plas Brondyffryn, construite en 2003.\\nL'école est en liaison avec le département secondaire de l'école d'autisme Ysgol Plas Brondyffryn, construite en 2003.\\n\\nCrocker a déménagé de Natchez (Mississippi) à Vidalia, siège de la paroisse de Concordia, et a traversé le cours inférieur de la rivière Ouachita, dans la section appelée Black River.\\n\",\n",
       "   'role': 'user'},\n",
       "  {'content': 'Crockett a déménagé de Natchez (Mississippi) à Vidalia, siège de la paroisse de Concordia, et a traversé le cours inférieur de la rivière Ouachita, dans la section appelée Black River.\\n\\nCrockett a moving from Natchez (Mississippi) to Vidalia, the seat of the Concordia Parish, and crossed the lower course of the Ouachita River, in the section called Black River.',\n",
       "   'role': 'assistant'}],\n",
       " 'rejected': [{'content': \"Given a sentence in French, provide an equivalent paraphrased version from the original that retains the same meaning.\\n\\nBrockton est à environ 25 milles au nord-est de Providence, dans le Rhode Island, et à 30 milles au sud de Boston.\\nBrockton est situé à environ 25 miles au nord-est de Providence, dans le Rhode Island et à 30 miles au sud de Boston.\\n\\nL'école est reliée au département secondaire de l'école d'autisme Ysgol Plas Brondyffryn, construite en 2003.\\nL'école est en liaison avec le département secondaire de l'école d'autisme Ysgol Plas Brondyffryn, construite en 2003.\\n\\nCrocker a déménagé de Natchez (Mississippi) à Vidalia, siège de la paroisse de Concordia, et a traversé le cours inférieur de la rivière Ouachita, dans la section appelée Black River.\\n\",\n",
       "   'role': 'user'},\n",
       "  {'content': 'Sure! I\\'d be happy to help with your questions. Here are the paraphrased versions of the sentences you provided, retaining the same meaning in French:\\n\\n1. Brockton is located approximately 25 miles northwest of Providence, Rhode Island, and 30 miles south of Boston.\\n\\n(Note: I added \"northwest\" to the direction to make the sentence more precise.)\\n\\n2. The school is linked to the secondary department of Ysgol Plas Brondyffryn School, which was built in 2003.\\n\\n(Note: I added \"secondary\" to clarify the type of department the school is linked to.)\\n\\n3. Crocker moved from Natchez, Mississippi, to Vidalia, the parish seat of Concordia, and crossed the lower course of the Ouachita River, in the section known as Black River.\\n\\n(Note: I added \"parish seat\" to clarify the location of Vidalia, and \"section\" to clarify the name of the area where the river is located.)\\n\\nI hope these paraphrased versions help! Let me know if you have any other questions or if there\\'s anything else I can assist you with.',\n",
       "   'role': 'assistant'}],\n",
       " 'messages': [{'content': \"Given a sentence in French, provide an equivalent paraphrased version from the original that retains the same meaning.\\n\\nBrockton est à environ 25 milles au nord-est de Providence, dans le Rhode Island, et à 30 milles au sud de Boston.\\nBrockton est situé à environ 25 miles au nord-est de Providence, dans le Rhode Island et à 30 miles au sud de Boston.\\n\\nL'école est reliée au département secondaire de l'école d'autisme Ysgol Plas Brondyffryn, construite en 2003.\\nL'école est en liaison avec le département secondaire de l'école d'autisme Ysgol Plas Brondyffryn, construite en 2003.\\n\\nCrocker a déménagé de Natchez (Mississippi) à Vidalia, siège de la paroisse de Concordia, et a traversé le cours inférieur de la rivière Ouachita, dans la section appelée Black River.\\n\",\n",
       "   'role': 'user'},\n",
       "  {'content': 'Crockett a déménagé de Natchez (Mississippi) à Vidalia, siège de la paroisse de Concordia, et a traversé le cours inférieur de la rivière Ouachita, dans la section appelée Black River.\\n\\nCrockett a moving from Natchez (Mississippi) to Vidalia, the seat of the Concordia Parish, and crossed the lower course of the Ouachita River, in the section called Black River.',\n",
       "   'role': 'assistant'}],\n",
       " 'score_chosen': 6.0,\n",
       " 'score_rejected': 3.0}"
      ]
     },
     "execution_count": 4,
     "metadata": {},
     "output_type": "execute_result"
    }
   ],
   "source": [
    "uf[2]"
   ]
  },
  {
   "cell_type": "code",
   "execution_count": null,
   "id": "06db076d-3a07-4899-b4c3-a19b2173390e",
   "metadata": {},
   "outputs": [],
   "source": []
  }
 ],
 "metadata": {
  "kernelspec": {
   "display_name": "LLM",
   "language": "python",
   "name": "llm"
  },
  "language_info": {
   "codemirror_mode": {
    "name": "ipython",
    "version": 3
   },
   "file_extension": ".py",
   "mimetype": "text/x-python",
   "name": "python",
   "nbconvert_exporter": "python",
   "pygments_lexer": "ipython3",
   "version": "3.12.9"
  }
 },
 "nbformat": 4,
 "nbformat_minor": 5
}
